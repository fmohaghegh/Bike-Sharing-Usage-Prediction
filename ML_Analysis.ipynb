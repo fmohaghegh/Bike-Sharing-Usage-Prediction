{
 "cells": [
  {
   "cell_type": "markdown",
   "metadata": {},
   "source": [
    "# Prediction of Bike Sharing System Usage "
   ]
  },
  {
   "cell_type": "code",
   "execution_count": 1,
   "metadata": {},
   "outputs": [],
   "source": [
    "%matplotlib inline\n",
    "import numpy as np\n",
    "import pandas as pd\n",
    "import seaborn as sns\n",
    "import matplotlib.pyplot as plt"
   ]
  },
  {
   "cell_type": "markdown",
   "metadata": {},
   "source": [
    "Reading the Data:"
   ]
  },
  {
   "cell_type": "code",
   "execution_count": 2,
   "metadata": {},
   "outputs": [
    {
     "data": {
      "text/html": [
       "<div>\n",
       "<style scoped>\n",
       "    .dataframe tbody tr th:only-of-type {\n",
       "        vertical-align: middle;\n",
       "    }\n",
       "\n",
       "    .dataframe tbody tr th {\n",
       "        vertical-align: top;\n",
       "    }\n",
       "\n",
       "    .dataframe thead th {\n",
       "        text-align: right;\n",
       "    }\n",
       "</style>\n",
       "<table border=\"1\" class=\"dataframe\">\n",
       "  <thead>\n",
       "    <tr style=\"text-align: right;\">\n",
       "      <th></th>\n",
       "      <th>instant</th>\n",
       "      <th>dteday</th>\n",
       "      <th>season</th>\n",
       "      <th>yr</th>\n",
       "      <th>mnth</th>\n",
       "      <th>hr</th>\n",
       "      <th>holiday</th>\n",
       "      <th>weekday</th>\n",
       "      <th>workingday</th>\n",
       "      <th>weathersit</th>\n",
       "      <th>temp</th>\n",
       "      <th>atemp</th>\n",
       "      <th>hum</th>\n",
       "      <th>windspeed</th>\n",
       "      <th>casual</th>\n",
       "      <th>registered</th>\n",
       "      <th>cnt</th>\n",
       "    </tr>\n",
       "  </thead>\n",
       "  <tbody>\n",
       "    <tr>\n",
       "      <th>0</th>\n",
       "      <td>1</td>\n",
       "      <td>2011-01-01</td>\n",
       "      <td>1</td>\n",
       "      <td>0</td>\n",
       "      <td>1</td>\n",
       "      <td>0</td>\n",
       "      <td>0</td>\n",
       "      <td>6</td>\n",
       "      <td>0</td>\n",
       "      <td>1</td>\n",
       "      <td>0.24</td>\n",
       "      <td>0.2879</td>\n",
       "      <td>0.81</td>\n",
       "      <td>0.0</td>\n",
       "      <td>3</td>\n",
       "      <td>13</td>\n",
       "      <td>16</td>\n",
       "    </tr>\n",
       "    <tr>\n",
       "      <th>1</th>\n",
       "      <td>2</td>\n",
       "      <td>2011-01-01</td>\n",
       "      <td>1</td>\n",
       "      <td>0</td>\n",
       "      <td>1</td>\n",
       "      <td>1</td>\n",
       "      <td>0</td>\n",
       "      <td>6</td>\n",
       "      <td>0</td>\n",
       "      <td>1</td>\n",
       "      <td>0.22</td>\n",
       "      <td>0.2727</td>\n",
       "      <td>0.80</td>\n",
       "      <td>0.0</td>\n",
       "      <td>8</td>\n",
       "      <td>32</td>\n",
       "      <td>40</td>\n",
       "    </tr>\n",
       "    <tr>\n",
       "      <th>2</th>\n",
       "      <td>3</td>\n",
       "      <td>2011-01-01</td>\n",
       "      <td>1</td>\n",
       "      <td>0</td>\n",
       "      <td>1</td>\n",
       "      <td>2</td>\n",
       "      <td>0</td>\n",
       "      <td>6</td>\n",
       "      <td>0</td>\n",
       "      <td>1</td>\n",
       "      <td>0.22</td>\n",
       "      <td>0.2727</td>\n",
       "      <td>0.80</td>\n",
       "      <td>0.0</td>\n",
       "      <td>5</td>\n",
       "      <td>27</td>\n",
       "      <td>32</td>\n",
       "    </tr>\n",
       "    <tr>\n",
       "      <th>3</th>\n",
       "      <td>4</td>\n",
       "      <td>2011-01-01</td>\n",
       "      <td>1</td>\n",
       "      <td>0</td>\n",
       "      <td>1</td>\n",
       "      <td>3</td>\n",
       "      <td>0</td>\n",
       "      <td>6</td>\n",
       "      <td>0</td>\n",
       "      <td>1</td>\n",
       "      <td>0.24</td>\n",
       "      <td>0.2879</td>\n",
       "      <td>0.75</td>\n",
       "      <td>0.0</td>\n",
       "      <td>3</td>\n",
       "      <td>10</td>\n",
       "      <td>13</td>\n",
       "    </tr>\n",
       "    <tr>\n",
       "      <th>4</th>\n",
       "      <td>5</td>\n",
       "      <td>2011-01-01</td>\n",
       "      <td>1</td>\n",
       "      <td>0</td>\n",
       "      <td>1</td>\n",
       "      <td>4</td>\n",
       "      <td>0</td>\n",
       "      <td>6</td>\n",
       "      <td>0</td>\n",
       "      <td>1</td>\n",
       "      <td>0.24</td>\n",
       "      <td>0.2879</td>\n",
       "      <td>0.75</td>\n",
       "      <td>0.0</td>\n",
       "      <td>0</td>\n",
       "      <td>1</td>\n",
       "      <td>1</td>\n",
       "    </tr>\n",
       "  </tbody>\n",
       "</table>\n",
       "</div>"
      ],
      "text/plain": [
       "   instant      dteday  season  yr  mnth  hr  holiday  weekday  workingday  \\\n",
       "0        1  2011-01-01       1   0     1   0        0        6           0   \n",
       "1        2  2011-01-01       1   0     1   1        0        6           0   \n",
       "2        3  2011-01-01       1   0     1   2        0        6           0   \n",
       "3        4  2011-01-01       1   0     1   3        0        6           0   \n",
       "4        5  2011-01-01       1   0     1   4        0        6           0   \n",
       "\n",
       "   weathersit  temp   atemp   hum  windspeed  casual  registered  cnt  \n",
       "0           1  0.24  0.2879  0.81        0.0       3          13   16  \n",
       "1           1  0.22  0.2727  0.80        0.0       8          32   40  \n",
       "2           1  0.22  0.2727  0.80        0.0       5          27   32  \n",
       "3           1  0.24  0.2879  0.75        0.0       3          10   13  \n",
       "4           1  0.24  0.2879  0.75        0.0       0           1    1  "
      ]
     },
     "execution_count": 2,
     "metadata": {},
     "output_type": "execute_result"
    }
   ],
   "source": [
    "df = pd.read_csv('hour.csv')\n",
    "df.head()"
   ]
  },
  {
   "cell_type": "markdown",
   "metadata": {},
   "source": [
    "Monitoring the data for the last month:"
   ]
  },
  {
   "cell_type": "code",
   "execution_count": 3,
   "metadata": {},
   "outputs": [
    {
     "data": {
      "text/plain": [
       "Text(0, 0.5, 'count')"
      ]
     },
     "execution_count": 3,
     "metadata": {},
     "output_type": "execute_result"
    },
    {
     "data": {
      "image/png": "[encoded data removed]",
      "text/plain": [
       "<Figure size 432x288 with 1 Axes>"
      ]
     },
     "metadata": {
      "needs_background": "light"
     },
     "output_type": "display_data"
    }
   ],
   "source": [
    "df.iloc[:24*30].plot(x='dteday',y='cnt')\n",
    "plt.xlabel('date')\n",
    "plt.ylabel('count')"
   ]
  },
  {
   "cell_type": "markdown",
   "metadata": {},
   "source": [
    "Performing the Machine Learning Analysis:"
   ]
  },
  {
   "cell_type": "code",
   "execution_count": 4,
   "metadata": {},
   "outputs": [
    {
     "name": "stdout",
     "output_type": "stream",
     "text": [
      "0      69228.5625\n",
      "5000      18065.080078125\n",
      "10000      1339.7767333984375\n",
      "15000      526.9885864257812\n",
      "20000      267.7773742675781\n",
      "25000      164.20462036132812\n",
      "30000      72.10881042480469\n",
      "35000      33.982337951660156\n",
      "40000      16.02220344543457\n",
      "45000      11.756446838378906\n",
      "50000      5.3776068687438965\n",
      "55000      4.728884696960449\n",
      "60000      3.734973192214966\n",
      "65000      2.5061426162719727\n",
      "70000      1.9502770900726318\n",
      "75000      2.321320056915283\n",
      "80000      2.141292095184326\n",
      "85000      1.2766209840774536\n",
      "90000      1.1506595611572266\n",
      "95000      0.9463090896606445\n",
      "100000      0.9398566484451294\n",
      "105000      1.0549659729003906\n",
      "110000      1.2137902975082397\n",
      "115000      0.7984434962272644\n",
      "120000      0.7394982576370239\n",
      "125000      0.5852690935134888\n",
      "130000      0.7568606734275818\n",
      "135000      0.43377798795700073\n",
      "Mean error is 1.0545002216357364 %\n",
      "Time =  327.553875207901\n"
     ]
    }
   ],
   "source": [
    "import tensorflow as tf\n",
    "\n",
    "# Split of the train and test sets\n",
    "dfnew  =  df.drop(['dteday','casual','registered'],axis=1)\n",
    "\n",
    "n_hours,k_dim   =   np.shape(dfnew)\n",
    "k_dim    -=  1\n",
    "\n",
    "# splitting the train and test to predict the next week\n",
    "train = dfnew[:n_hours-7*24]\n",
    "test  = dfnew[n_hours-7*24:]\n",
    "\n",
    "var_train = train.drop(['cnt'],axis =1)\n",
    "cnt_train = train['cnt']\n",
    "\n",
    "var_test  = test.drop(['cnt'],axis =1)\n",
    "cnt_test = test['cnt']\n",
    "\n",
    "var_train = train.to_numpy()\n",
    "var_test  = test.to_numpy()\n",
    "\n",
    "cnt_train = train.to_numpy()\n",
    "cnt_test  = test.to_numpy()\n",
    "\n",
    "var_train = var_train[:,1:]\n",
    "var_test  = var_test[:,1:]\n",
    "\n",
    "cnt_train = cnt_train[:,13]\n",
    "cnt_test  = cnt_test[:,13]\n",
    "\n",
    "def next_batch(num,var,cnt):\n",
    "    import numpy as np\n",
    "    idx = np.arange(0 , len(var))\n",
    "    np.random.shuffle(idx)\n",
    "    idx = idx[:num]\n",
    "    var_shuffle  = [var[i][:] for i in idx]\n",
    "    cnt_shuffle  = [cnt[i] for i in idx]\n",
    "\n",
    "    return np.asarray(var_shuffle),np.asarray(cnt_shuffle)\n",
    "\n",
    "#_____________________________________________________________________________\n",
    "\n",
    "def xavier_init(size):\n",
    "    in_dim = size[0]\n",
    "    xavier_stddev = 1. / tf.sqrt(in_dim / 2.)\n",
    "    return tf.random_normal(shape=size, stddev=xavier_stddev)\n",
    "\n",
    "#_____________________________________________________________________________\n",
    "\n",
    "import tensorflow as tf\n",
    "import numpy as np\n",
    "import matplotlib.pyplot as plt\n",
    "import scipy.io\n",
    "import time\n",
    "import sys\n",
    "\n",
    "tf.reset_default_graph()\n",
    "\n",
    "start = time.time()\n",
    "\n",
    "NUM_STEPS      = 1000000\n",
    "MINIBATCH_SIZE = 500\n",
    "\n",
    "h1_dim    = 20\n",
    "h2_dim    = 20\n",
    "h3_dim    = 2\n",
    "\n",
    "cnt_dim  = 1\n",
    "\n",
    "Xpl     = tf.placeholder(tf.float32, shape=[None, k_dim])\n",
    "cntpl   = tf.placeholder(tf.float32, shape=[None, 1])\n",
    "\n",
    "W1 = tf.Variable(xavier_init([k_dim, h1_dim]))\n",
    "b1 = tf.Variable(tf.zeros(shape=[h1_dim]))\n",
    "\n",
    "W2 = tf.Variable(xavier_init([h1_dim, h2_dim]))\n",
    "b2 = tf.Variable(tf.zeros(shape=[h2_dim]))\n",
    "\n",
    "W3 = tf.Variable(xavier_init([h2_dim, h3_dim]))\n",
    "b3 = tf.Variable(tf.zeros(shape=[h3_dim]))\n",
    "\n",
    "W4 = tf.Variable(xavier_init([h3_dim,cnt_dim]))\n",
    "b4 = tf.Variable(tf.zeros(shape=[cnt_dim]))\n",
    "\n",
    "h1       =  tf.nn.sigmoid(tf.matmul(Xpl, W1) + b1)\n",
    "h2       =  tf.nn.leaky_relu(tf.matmul(h1, W2) + b2)\n",
    "h3       =  tf.nn.leaky_relu(tf.matmul(h2, W3) + b3)\n",
    "result   =  tf.nn.leaky_relu(tf.matmul(h3, W4) + b4)\n",
    "\n",
    "loss     =  tf.reduce_mean(tf.square(result-cntpl))\n",
    "\n",
    "solver   =  tf.train.AdamOptimizer(1e-4).minimize(loss)\n",
    "\n",
    "saver = tf.train.Saver()\n",
    "tf.train.Server.create_local_server\n",
    "\n",
    "with tf.Session() as sess:\n",
    "    sess.run(tf.global_variables_initializer())\n",
    "    loss_history = []\n",
    "        \n",
    "    #Train\n",
    "    for i in range(NUM_STEPS):\n",
    "        batch_var,batch_cnt =  next_batch(MINIBATCH_SIZE,var_train,cnt_train)\n",
    "\n",
    "        batch_cnt =  np.array(batch_cnt)[:, None] \n",
    "    \n",
    "        _, los,res = sess.run([solver,loss,result],feed_dict={Xpl:batch_var, \\\n",
    "                              cntpl:batch_cnt})\n",
    "    \n",
    "        loss_history.append(los)\n",
    "        if (i%5000 == 0):\n",
    "            print(i,'    ','{}'.format(los))#,np.transpose(res))\n",
    "            if los<0.5:\n",
    "                break;\n",
    "    cnt_test    =  np.array(cnt_test)[:, None]  \n",
    "    \n",
    "    MLresult,cost     =  sess.run([result,loss],feed_dict={Xpl:var_test,cntpl:cnt_test})\n",
    "\n",
    "    print ('Mean error is',100*np.mean(np.abs(MLresult-cnt_test))/np.mean(cnt_test),'%')\n",
    "    end = time.time()\n",
    "    print ('Time = ',end-start)\n",
    "\n",
    "    saver.save(sess,'tensorflowmodel/cntModel.ckpt')\n"
   ]
  },
  {
   "cell_type": "markdown",
   "metadata": {},
   "source": [
    "Showing the Results:"
   ]
  },
  {
   "cell_type": "code",
   "execution_count": 7,
   "metadata": {},
   "outputs": [
    {
     "data": {
      "text/plain": [
       "Text(0, 0.5, 'count')"
      ]
     },
     "execution_count": 7,
     "metadata": {},
     "output_type": "execute_result"
    },
    {
     "data": {
      "image/png": "[encoded data removed]",
      "text/plain": [
       "<Figure size 432x288 with 1 Axes>"
      ]
     },
     "metadata": {
      "needs_background": "light"
     },
     "output_type": "display_data"
    }
   ],
   "source": [
    "x = np.linspace(-7*24,0,7*24)\n",
    "plt.plot(x,MLresult,'-b', label='ML')\n",
    "plt.plot(x,cnt_test,'--k', label='test')        \n",
    "leg = plt.legend();\n",
    "plt.xlabel('hours')\n",
    "plt.ylabel('count')"
   ]
  },
  {
   "cell_type": "code",
   "execution_count": 6,
   "metadata": {},
   "outputs": [
    {
     "name": "stdout",
     "output_type": "stream",
     "text": [
      "Mean absolute deviation =  0.7871090940066746\n"
     ]
    }
   ],
   "source": [
    "print('Mean absolute deviation = ',np.linalg.norm(abs(MLresult-cnt_test), ord=1)/(24*7))"
   ]
  },
  {
   "cell_type": "code",
   "execution_count": null,
   "metadata": {},
   "outputs": [],
   "source": []
  },
  {
   "cell_type": "code",
   "execution_count": null,
   "metadata": {},
   "outputs": [],
   "source": []
  },
  {
   "cell_type": "code",
   "execution_count": null,
   "metadata": {},
   "outputs": [],
   "source": []
  }
 ],
 "metadata": {
  "kernelspec": {
   "display_name": "Python 3",
   "language": "python",
   "name": "python3"
  },
  "language_info": {
   "codemirror_mode": {
    "name": "ipython",
    "version": 3
   },
   "file_extension": ".py",
   "mimetype": "text/x-python",
   "name": "python",
   "nbconvert_exporter": "python",
   "pygments_lexer": "ipython3",
   "version": "3.7.3"
  }
 },
 "nbformat": 4,
 "nbformat_minor": 2
}
